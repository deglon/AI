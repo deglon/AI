{
  "nbformat": 4,
  "nbformat_minor": 0,
  "metadata": {
    "colab": {
      "name": "Orange Day 2.ipynb",
      "provenance": [],
      "include_colab_link": true
    },
    "kernelspec": {
      "name": "python3",
      "display_name": "Python 3"
    }
  },
  "cells": [
    {
      "cell_type": "markdown",
      "metadata": {
        "id": "view-in-github",
        "colab_type": "text"
      },
      "source": [
        "<a href=\"https://colab.research.google.com/github/deglon/AI/blob/main/Orange_Day_2.ipynb\" target=\"_parent\"><img src=\"https://colab.research.google.com/assets/colab-badge.svg\" alt=\"Open In Colab\"/></a>"
      ]
    },
    {
      "cell_type": "markdown",
      "metadata": {
        "id": "mz8EbjwZUTW_"
      },
      "source": [
        "# Boilerplate"
      ]
    },
    {
      "cell_type": "code",
      "metadata": {
        "id": "38rDthrQLnYk"
      },
      "source": [
        "import pandas as pd #management ta3 les fichiers\n",
        "import numpy as np #matrice et calcul (math)\n",
        "import matplotlib.pyplot as plt #graphes"
      ],
      "execution_count": null,
      "outputs": []
    },
    {
      "cell_type": "code",
      "metadata": {
        "id": "XKRR2sM-L3q1"
      },
      "source": [
        "data = pd.read_csv('https://fichier.csv')\n",
        "data.head()"
      ],
      "execution_count": null,
      "outputs": []
    },
    {
      "cell_type": "code",
      "metadata": {
        "id": "JFsEJ4IlL9Qw"
      },
      "source": [
        "data.describe() #min count max w std"
      ],
      "execution_count": null,
      "outputs": []
    },
    {
      "cell_type": "code",
      "metadata": {
        "id": "4vupaYoTMBQy"
      },
      "source": [
        "data.info() #null values (isna()), types (dtypes)"
      ],
      "execution_count": null,
      "outputs": []
    },
    {
      "cell_type": "code",
      "metadata": {
        "id": "Yj3gIrqwMG9F"
      },
      "source": [
        "data.drop([col1,col2], axis=1, inplace=True) #tfasekh il zeyid"
      ],
      "execution_count": null,
      "outputs": []
    },
    {
      "cell_type": "code",
      "metadata": {
        "id": "FcSsi85sMMkd"
      },
      "source": [
        "data.column.plot()"
      ],
      "execution_count": null,
      "outputs": []
    },
    {
      "cell_type": "code",
      "metadata": {
        "id": "Dp-WYu2zMO_5"
      },
      "source": [
        "plt.plot(data.column, data.label)\n",
        "plt.xlabel('feature 1')\n",
        "plt.ylabel('label')"
      ],
      "execution_count": null,
      "outputs": []
    },
    {
      "cell_type": "code",
      "metadata": {
        "id": "c60KAN50MX4o"
      },
      "source": [
        "# preprocessing"
      ],
      "execution_count": null,
      "outputs": []
    },
    {
      "cell_type": "code",
      "metadata": {
        "id": "B9IQEPa5MbE-"
      },
      "source": [
        "X = data.drop('label', axis=1)\n",
        "y = data['label']"
      ],
      "execution_count": null,
      "outputs": []
    },
    {
      "cell_type": "code",
      "metadata": {
        "id": "tkXp6EhsMi17"
      },
      "source": [
        "from sklearn.model_selection import train_test_split\n",
        "\n",
        "X_train, X_test, y_train, y_test = train_test_split(X, y, test_size=0.2, random_state=0)"
      ],
      "execution_count": null,
      "outputs": []
    },
    {
      "cell_type": "code",
      "metadata": {
        "id": "MdFhhnI0ND3T"
      },
      "source": [
        "# models simples\n",
        "\n",
        "#regression\n",
        "from sklearn.linear_model import LinearRegression\n",
        "\n",
        "#classification binaire\n",
        "from sklearn.linear_model import LogisticRegression\n",
        "\n",
        "# Classification multiclasses\n",
        "from sklearn.svm import SVC, SVR \n",
        "from sklearn.neighbors import KNeighborsClassifier\n",
        "from sklearn.tree import DecisionTreeClassifier "
      ],
      "execution_count": null,
      "outputs": []
    },
    {
      "cell_type": "code",
      "metadata": {
        "id": "LyLH0Co9N7nW"
      },
      "source": [
        "model = SVC()"
      ],
      "execution_count": null,
      "outputs": []
    },
    {
      "cell_type": "code",
      "metadata": {
        "id": "6bzS-RK-Pv6v"
      },
      "source": [
        "model.fit(X_train, y_train)"
      ],
      "execution_count": null,
      "outputs": []
    },
    {
      "cell_type": "code",
      "metadata": {
        "id": "bUuJFt-2P_H0"
      },
      "source": [
        "preds = model.predict(X_test)"
      ],
      "execution_count": null,
      "outputs": []
    },
    {
      "cell_type": "code",
      "metadata": {
        "id": "sKwmhn2pQOI6"
      },
      "source": [
        "#regression\n",
        "from sklearn.metrics import mean_absolute_error, mean_squared_error\n",
        "\n",
        "mae = mean_absolute_error(y_test, preds)\n",
        "mse = mean_squared_error(y_test, preds)\n",
        "rmse = mean_squared_error(y_test, preds, squared=True)\n",
        "\n",
        "#classification\n",
        "from sklearn.metrics import accuracy_score, f1_score, precision_score, recall_score\n",
        "from sklearn.metrics import confusion_matrix"
      ],
      "execution_count": null,
      "outputs": []
    },
    {
      "cell_type": "code",
      "metadata": {
        "id": "qz1kRSeHS2ft"
      },
      "source": [
        "from joblib import dump\n",
        "dump(model, 'svm_classificer.joblib')"
      ],
      "execution_count": null,
      "outputs": []
    },
    {
      "cell_type": "markdown",
      "metadata": {
        "id": "a_XaN-GnTVAz"
      },
      "source": [
        "### Deployment"
      ]
    },
    {
      "cell_type": "code",
      "metadata": {
        "id": "DRVSuzp_TUWj"
      },
      "source": [
        "from joblib import load\n",
        "## code ta3 API\n",
        "\n",
        "data = get_data()# code ta3 API\n",
        "pre_processed_data = pre_process_data(data)\n",
        "\n",
        "model = load('svm_classificer.joblib')\n",
        "\n",
        "return model.predict(pre_processed_data)\n",
        "\n",
        "## code ta3 API"
      ],
      "execution_count": null,
      "outputs": []
    },
    {
      "cell_type": "markdown",
      "metadata": {
        "id": "eGqor7b9aRXy"
      },
      "source": [
        "# Dealing with Data: Missing Data\n",
        "\n",
        "  - **Fillna**: 3abi faraghat avec soit valeur soit dictionnaire ikhalik tikhtar 3ala kol colonne chta3mel\n",
        "\n",
        "  - **histogrammes** pour savoir les distributions: idha 3ana distribution  normale na3mlou StandardScaler, sinon MinMaxScaler.\n",
        "  RobustScaler\n",
        "\n",
        "  - **SimpleImputer**: bch 3abina il faraghat, avec params missing_values tnajem t7ot valeurs li thib 3leha w strategy bch tikhtar kifeh t3abehom"
      ]
    },
    {
      "cell_type": "code",
      "metadata": {
        "id": "IKCu9XxkafBa"
      },
      "source": [
        "!wget https://archive.ics.uci.edu/ml/machine-learning-databases/00360/AirQualityUCI.zip\n",
        "!unzip AirQualityUCI.zip"
      ],
      "execution_count": null,
      "outputs": []
    },
    {
      "cell_type": "code",
      "metadata": {
        "id": "YKaAsWgcbCJO"
      },
      "source": [
        "import pandas as pd"
      ],
      "execution_count": null,
      "outputs": []
    },
    {
      "cell_type": "code",
      "metadata": {
        "id": "plAdBluia9qx",
        "outputId": "d07826c6-32c5-4da7-ac5c-da1826a313e7",
        "colab": {
          "base_uri": "https://localhost:8080/",
          "height": 233
        }
      },
      "source": [
        "dataset = pd.read_csv('AirQualityUCI.csv', sep=';')\n",
        "dataset.head()"
      ],
      "execution_count": null,
      "outputs": [
        {
          "output_type": "execute_result",
          "data": {
            "text/html": [
              "<div>\n",
              "<style scoped>\n",
              "    .dataframe tbody tr th:only-of-type {\n",
              "        vertical-align: middle;\n",
              "    }\n",
              "\n",
              "    .dataframe tbody tr th {\n",
              "        vertical-align: top;\n",
              "    }\n",
              "\n",
              "    .dataframe thead th {\n",
              "        text-align: right;\n",
              "    }\n",
              "</style>\n",
              "<table border=\"1\" class=\"dataframe\">\n",
              "  <thead>\n",
              "    <tr style=\"text-align: right;\">\n",
              "      <th></th>\n",
              "      <th>Date</th>\n",
              "      <th>Time</th>\n",
              "      <th>CO(GT)</th>\n",
              "      <th>PT08.S1(CO)</th>\n",
              "      <th>NMHC(GT)</th>\n",
              "      <th>C6H6(GT)</th>\n",
              "      <th>PT08.S2(NMHC)</th>\n",
              "      <th>NOx(GT)</th>\n",
              "      <th>PT08.S3(NOx)</th>\n",
              "      <th>NO2(GT)</th>\n",
              "      <th>PT08.S4(NO2)</th>\n",
              "      <th>PT08.S5(O3)</th>\n",
              "      <th>T</th>\n",
              "      <th>RH</th>\n",
              "      <th>AH</th>\n",
              "      <th>Unnamed: 15</th>\n",
              "      <th>Unnamed: 16</th>\n",
              "    </tr>\n",
              "  </thead>\n",
              "  <tbody>\n",
              "    <tr>\n",
              "      <th>0</th>\n",
              "      <td>10/03/2004</td>\n",
              "      <td>18.00.00</td>\n",
              "      <td>2,6</td>\n",
              "      <td>1360.0</td>\n",
              "      <td>150.0</td>\n",
              "      <td>11,9</td>\n",
              "      <td>1046.0</td>\n",
              "      <td>166.0</td>\n",
              "      <td>1056.0</td>\n",
              "      <td>113.0</td>\n",
              "      <td>1692.0</td>\n",
              "      <td>1268.0</td>\n",
              "      <td>13,6</td>\n",
              "      <td>48,9</td>\n",
              "      <td>0,7578</td>\n",
              "      <td>NaN</td>\n",
              "      <td>NaN</td>\n",
              "    </tr>\n",
              "    <tr>\n",
              "      <th>1</th>\n",
              "      <td>10/03/2004</td>\n",
              "      <td>19.00.00</td>\n",
              "      <td>2</td>\n",
              "      <td>1292.0</td>\n",
              "      <td>112.0</td>\n",
              "      <td>9,4</td>\n",
              "      <td>955.0</td>\n",
              "      <td>103.0</td>\n",
              "      <td>1174.0</td>\n",
              "      <td>92.0</td>\n",
              "      <td>1559.0</td>\n",
              "      <td>972.0</td>\n",
              "      <td>13,3</td>\n",
              "      <td>47,7</td>\n",
              "      <td>0,7255</td>\n",
              "      <td>NaN</td>\n",
              "      <td>NaN</td>\n",
              "    </tr>\n",
              "    <tr>\n",
              "      <th>2</th>\n",
              "      <td>10/03/2004</td>\n",
              "      <td>20.00.00</td>\n",
              "      <td>2,2</td>\n",
              "      <td>1402.0</td>\n",
              "      <td>88.0</td>\n",
              "      <td>9,0</td>\n",
              "      <td>939.0</td>\n",
              "      <td>131.0</td>\n",
              "      <td>1140.0</td>\n",
              "      <td>114.0</td>\n",
              "      <td>1555.0</td>\n",
              "      <td>1074.0</td>\n",
              "      <td>11,9</td>\n",
              "      <td>54,0</td>\n",
              "      <td>0,7502</td>\n",
              "      <td>NaN</td>\n",
              "      <td>NaN</td>\n",
              "    </tr>\n",
              "    <tr>\n",
              "      <th>3</th>\n",
              "      <td>10/03/2004</td>\n",
              "      <td>21.00.00</td>\n",
              "      <td>2,2</td>\n",
              "      <td>1376.0</td>\n",
              "      <td>80.0</td>\n",
              "      <td>9,2</td>\n",
              "      <td>948.0</td>\n",
              "      <td>172.0</td>\n",
              "      <td>1092.0</td>\n",
              "      <td>122.0</td>\n",
              "      <td>1584.0</td>\n",
              "      <td>1203.0</td>\n",
              "      <td>11,0</td>\n",
              "      <td>60,0</td>\n",
              "      <td>0,7867</td>\n",
              "      <td>NaN</td>\n",
              "      <td>NaN</td>\n",
              "    </tr>\n",
              "    <tr>\n",
              "      <th>4</th>\n",
              "      <td>10/03/2004</td>\n",
              "      <td>22.00.00</td>\n",
              "      <td>1,6</td>\n",
              "      <td>1272.0</td>\n",
              "      <td>51.0</td>\n",
              "      <td>6,5</td>\n",
              "      <td>836.0</td>\n",
              "      <td>131.0</td>\n",
              "      <td>1205.0</td>\n",
              "      <td>116.0</td>\n",
              "      <td>1490.0</td>\n",
              "      <td>1110.0</td>\n",
              "      <td>11,2</td>\n",
              "      <td>59,6</td>\n",
              "      <td>0,7888</td>\n",
              "      <td>NaN</td>\n",
              "      <td>NaN</td>\n",
              "    </tr>\n",
              "  </tbody>\n",
              "</table>\n",
              "</div>"
            ],
            "text/plain": [
              "         Date      Time CO(GT)  ...      AH  Unnamed: 15 Unnamed: 16\n",
              "0  10/03/2004  18.00.00    2,6  ...  0,7578          NaN         NaN\n",
              "1  10/03/2004  19.00.00      2  ...  0,7255          NaN         NaN\n",
              "2  10/03/2004  20.00.00    2,2  ...  0,7502          NaN         NaN\n",
              "3  10/03/2004  21.00.00    2,2  ...  0,7867          NaN         NaN\n",
              "4  10/03/2004  22.00.00    1,6  ...  0,7888          NaN         NaN\n",
              "\n",
              "[5 rows x 17 columns]"
            ]
          },
          "metadata": {
            "tags": []
          },
          "execution_count": 102
        }
      ]
    },
    {
      "cell_type": "code",
      "metadata": {
        "id": "dTpnCOYQbU4w",
        "outputId": "6da0aac1-58a9-4733-d881-fbd42a280e4a",
        "colab": {
          "base_uri": "https://localhost:8080/"
        }
      },
      "source": [
        "dataset.info()"
      ],
      "execution_count": null,
      "outputs": [
        {
          "output_type": "stream",
          "text": [
            "<class 'pandas.core.frame.DataFrame'>\n",
            "RangeIndex: 9471 entries, 0 to 9470\n",
            "Data columns (total 17 columns):\n",
            " #   Column         Non-Null Count  Dtype  \n",
            "---  ------         --------------  -----  \n",
            " 0   Date           9357 non-null   object \n",
            " 1   Time           9357 non-null   object \n",
            " 2   CO(GT)         9357 non-null   object \n",
            " 3   PT08.S1(CO)    9357 non-null   float64\n",
            " 4   NMHC(GT)       9357 non-null   float64\n",
            " 5   C6H6(GT)       9357 non-null   object \n",
            " 6   PT08.S2(NMHC)  9357 non-null   float64\n",
            " 7   NOx(GT)        9357 non-null   float64\n",
            " 8   PT08.S3(NOx)   9357 non-null   float64\n",
            " 9   NO2(GT)        9357 non-null   float64\n",
            " 10  PT08.S4(NO2)   9357 non-null   float64\n",
            " 11  PT08.S5(O3)    9357 non-null   float64\n",
            " 12  T              9357 non-null   object \n",
            " 13  RH             9357 non-null   object \n",
            " 14  AH             9357 non-null   object \n",
            " 15  Unnamed: 15    0 non-null      float64\n",
            " 16  Unnamed: 16    0 non-null      float64\n",
            "dtypes: float64(10), object(7)\n",
            "memory usage: 1.2+ MB\n"
          ],
          "name": "stdout"
        }
      ]
    },
    {
      "cell_type": "code",
      "metadata": {
        "id": "rKhX411gbykg"
      },
      "source": [
        "dataset.drop(['Unnamed: 15', 'Unnamed: 16', 'Date'], axis=1, inplace=True)"
      ],
      "execution_count": null,
      "outputs": []
    },
    {
      "cell_type": "code",
      "metadata": {
        "id": "SpZJlrDicJBK",
        "outputId": "4896110a-4f03-4dba-e2d4-bdb1cfb00b65",
        "colab": {
          "base_uri": "https://localhost:8080/"
        }
      },
      "source": [
        "dataset.isna().sum()"
      ],
      "execution_count": null,
      "outputs": [
        {
          "output_type": "execute_result",
          "data": {
            "text/plain": [
              "Time             114\n",
              "CO(GT)           114\n",
              "PT08.S1(CO)      114\n",
              "C6H6(GT)         114\n",
              "PT08.S2(NMHC)    114\n",
              "NOx(GT)          114\n",
              "PT08.S3(NOx)     114\n",
              "NO2(GT)          114\n",
              "PT08.S4(NO2)     114\n",
              "PT08.S5(O3)      114\n",
              "T                114\n",
              "RH               114\n",
              "AH               114\n",
              "dtype: int64"
            ]
          },
          "metadata": {
            "tags": []
          },
          "execution_count": 99
        }
      ]
    },
    {
      "cell_type": "code",
      "metadata": {
        "id": "E9PgMBrmcYeu",
        "outputId": "27ee6722-24de-4da7-be2a-9b0bd5e85afe",
        "colab": {
          "base_uri": "https://localhost:8080/"
        }
      },
      "source": [
        "dataset.shape"
      ],
      "execution_count": null,
      "outputs": [
        {
          "output_type": "execute_result",
          "data": {
            "text/plain": [
              "(9471, 13)"
            ]
          },
          "metadata": {
            "tags": []
          },
          "execution_count": 100
        }
      ]
    },
    {
      "cell_type": "code",
      "metadata": {
        "id": "DdujCyOucbLw"
      },
      "source": [
        "dataset.dropna(how=\"all\", axis=0, inplace=True)"
      ],
      "execution_count": null,
      "outputs": []
    },
    {
      "cell_type": "code",
      "metadata": {
        "id": "LV5K7W2Cc77v",
        "outputId": "ef71df83-ac21-4ad2-a166-355a6f2eb6bd",
        "colab": {
          "base_uri": "https://localhost:8080/",
          "height": 216
        }
      },
      "source": [
        "dataset.head()"
      ],
      "execution_count": null,
      "outputs": [
        {
          "output_type": "execute_result",
          "data": {
            "text/html": [
              "<div>\n",
              "<style scoped>\n",
              "    .dataframe tbody tr th:only-of-type {\n",
              "        vertical-align: middle;\n",
              "    }\n",
              "\n",
              "    .dataframe tbody tr th {\n",
              "        vertical-align: top;\n",
              "    }\n",
              "\n",
              "    .dataframe thead th {\n",
              "        text-align: right;\n",
              "    }\n",
              "</style>\n",
              "<table border=\"1\" class=\"dataframe\">\n",
              "  <thead>\n",
              "    <tr style=\"text-align: right;\">\n",
              "      <th></th>\n",
              "      <th>Time</th>\n",
              "      <th>CO(GT)</th>\n",
              "      <th>PT08.S1(CO)</th>\n",
              "      <th>NMHC(GT)</th>\n",
              "      <th>C6H6(GT)</th>\n",
              "      <th>PT08.S2(NMHC)</th>\n",
              "      <th>NOx(GT)</th>\n",
              "      <th>PT08.S3(NOx)</th>\n",
              "      <th>NO2(GT)</th>\n",
              "      <th>PT08.S4(NO2)</th>\n",
              "      <th>PT08.S5(O3)</th>\n",
              "      <th>T</th>\n",
              "      <th>RH</th>\n",
              "      <th>AH</th>\n",
              "    </tr>\n",
              "  </thead>\n",
              "  <tbody>\n",
              "    <tr>\n",
              "      <th>0</th>\n",
              "      <td>18.00.00</td>\n",
              "      <td>2,6</td>\n",
              "      <td>1360.0</td>\n",
              "      <td>150.0</td>\n",
              "      <td>11,9</td>\n",
              "      <td>1046.0</td>\n",
              "      <td>166.0</td>\n",
              "      <td>1056.0</td>\n",
              "      <td>113.0</td>\n",
              "      <td>1692.0</td>\n",
              "      <td>1268.0</td>\n",
              "      <td>13,6</td>\n",
              "      <td>48,9</td>\n",
              "      <td>0,7578</td>\n",
              "    </tr>\n",
              "    <tr>\n",
              "      <th>1</th>\n",
              "      <td>19.00.00</td>\n",
              "      <td>2</td>\n",
              "      <td>1292.0</td>\n",
              "      <td>112.0</td>\n",
              "      <td>9,4</td>\n",
              "      <td>955.0</td>\n",
              "      <td>103.0</td>\n",
              "      <td>1174.0</td>\n",
              "      <td>92.0</td>\n",
              "      <td>1559.0</td>\n",
              "      <td>972.0</td>\n",
              "      <td>13,3</td>\n",
              "      <td>47,7</td>\n",
              "      <td>0,7255</td>\n",
              "    </tr>\n",
              "    <tr>\n",
              "      <th>2</th>\n",
              "      <td>20.00.00</td>\n",
              "      <td>2,2</td>\n",
              "      <td>1402.0</td>\n",
              "      <td>88.0</td>\n",
              "      <td>9,0</td>\n",
              "      <td>939.0</td>\n",
              "      <td>131.0</td>\n",
              "      <td>1140.0</td>\n",
              "      <td>114.0</td>\n",
              "      <td>1555.0</td>\n",
              "      <td>1074.0</td>\n",
              "      <td>11,9</td>\n",
              "      <td>54,0</td>\n",
              "      <td>0,7502</td>\n",
              "    </tr>\n",
              "    <tr>\n",
              "      <th>3</th>\n",
              "      <td>21.00.00</td>\n",
              "      <td>2,2</td>\n",
              "      <td>1376.0</td>\n",
              "      <td>80.0</td>\n",
              "      <td>9,2</td>\n",
              "      <td>948.0</td>\n",
              "      <td>172.0</td>\n",
              "      <td>1092.0</td>\n",
              "      <td>122.0</td>\n",
              "      <td>1584.0</td>\n",
              "      <td>1203.0</td>\n",
              "      <td>11,0</td>\n",
              "      <td>60,0</td>\n",
              "      <td>0,7867</td>\n",
              "    </tr>\n",
              "    <tr>\n",
              "      <th>4</th>\n",
              "      <td>22.00.00</td>\n",
              "      <td>1,6</td>\n",
              "      <td>1272.0</td>\n",
              "      <td>51.0</td>\n",
              "      <td>6,5</td>\n",
              "      <td>836.0</td>\n",
              "      <td>131.0</td>\n",
              "      <td>1205.0</td>\n",
              "      <td>116.0</td>\n",
              "      <td>1490.0</td>\n",
              "      <td>1110.0</td>\n",
              "      <td>11,2</td>\n",
              "      <td>59,6</td>\n",
              "      <td>0,7888</td>\n",
              "    </tr>\n",
              "  </tbody>\n",
              "</table>\n",
              "</div>"
            ],
            "text/plain": [
              "       Time CO(GT)  PT08.S1(CO)  NMHC(GT)  ... PT08.S5(O3)     T    RH      AH\n",
              "0  18.00.00    2,6       1360.0     150.0  ...      1268.0  13,6  48,9  0,7578\n",
              "1  19.00.00      2       1292.0     112.0  ...       972.0  13,3  47,7  0,7255\n",
              "2  20.00.00    2,2       1402.0      88.0  ...      1074.0  11,9  54,0  0,7502\n",
              "3  21.00.00    2,2       1376.0      80.0  ...      1203.0  11,0  60,0  0,7867\n",
              "4  22.00.00    1,6       1272.0      51.0  ...      1110.0  11,2  59,6  0,7888\n",
              "\n",
              "[5 rows x 14 columns]"
            ]
          },
          "metadata": {
            "tags": []
          },
          "execution_count": 105
        }
      ]
    },
    {
      "cell_type": "code",
      "metadata": {
        "id": "I5BOJN-_dOZn"
      },
      "source": [
        "dataset.replace(',', '.', regex=True, inplace=True)\n",
        "\n",
        "for column in ('CO(GT)', 'C6H6(GT)', 'T', 'RH', 'AH'):\n",
        "  dataset[column] = dataset[column].astype(float)"
      ],
      "execution_count": null,
      "outputs": []
    },
    {
      "cell_type": "code",
      "metadata": {
        "id": "PoVfbFHCeFcN",
        "outputId": "113218e3-3eaf-49e4-a3f2-0d443aabe003",
        "colab": {
          "base_uri": "https://localhost:8080/"
        }
      },
      "source": [
        "dataset.info()"
      ],
      "execution_count": null,
      "outputs": [
        {
          "output_type": "stream",
          "text": [
            "<class 'pandas.core.frame.DataFrame'>\n",
            "Int64Index: 9357 entries, 0 to 9356\n",
            "Data columns (total 13 columns):\n",
            " #   Column         Non-Null Count  Dtype  \n",
            "---  ------         --------------  -----  \n",
            " 0   Time           9357 non-null   object \n",
            " 1   CO(GT)         9357 non-null   float64\n",
            " 2   PT08.S1(CO)    9357 non-null   float64\n",
            " 3   C6H6(GT)       9357 non-null   float64\n",
            " 4   PT08.S2(NMHC)  9357 non-null   float64\n",
            " 5   NOx(GT)        9357 non-null   float64\n",
            " 6   PT08.S3(NOx)   9357 non-null   float64\n",
            " 7   NO2(GT)        9357 non-null   float64\n",
            " 8   PT08.S4(NO2)   9357 non-null   float64\n",
            " 9   PT08.S5(O3)    9357 non-null   float64\n",
            " 10  T              9357 non-null   float64\n",
            " 11  RH             9357 non-null   float64\n",
            " 12  AH             9357 non-null   float64\n",
            "dtypes: float64(12), object(1)\n",
            "memory usage: 1023.4+ KB\n"
          ],
          "name": "stdout"
        }
      ]
    },
    {
      "cell_type": "code",
      "metadata": {
        "id": "0IaX8JJoeXS-"
      },
      "source": [
        "y = dataset['AH']\n",
        "X = dataset.drop('AH', axis=1)"
      ],
      "execution_count": null,
      "outputs": []
    },
    {
      "cell_type": "code",
      "metadata": {
        "id": "0GyV9j2FefMq"
      },
      "source": [
        "from sklearn.preprocessing import LabelEncoder\n",
        "\n",
        "le = LabelEncoder()\n",
        "\n",
        "X['Time'] = le.fit_transform(X['Time'])"
      ],
      "execution_count": null,
      "outputs": []
    },
    {
      "cell_type": "code",
      "metadata": {
        "id": "EamYs6GafLB_",
        "outputId": "4d6a9d84-8f91-4619-cead-f8ab383b4d71",
        "colab": {
          "base_uri": "https://localhost:8080/",
          "height": 1000
        }
      },
      "source": [
        "X.hist(bins=50, figsize=(15,15))"
      ],
      "execution_count": null,
      "outputs": [
        {
          "output_type": "execute_result",
          "data": {
            "text/plain": [
              "array([[<matplotlib.axes._subplots.AxesSubplot object at 0x7f3f8381fba8>,\n",
              "        <matplotlib.axes._subplots.AxesSubplot object at 0x7f3f838295c0>,\n",
              "        <matplotlib.axes._subplots.AxesSubplot object at 0x7f3f837bb860>,\n",
              "        <matplotlib.axes._subplots.AxesSubplot object at 0x7f3f837d6be0>],\n",
              "       [<matplotlib.axes._subplots.AxesSubplot object at 0x7f3f83780f60>,\n",
              "        <matplotlib.axes._subplots.AxesSubplot object at 0x7f3f8373e320>,\n",
              "        <matplotlib.axes._subplots.AxesSubplot object at 0x7f3f8376e6a0>,\n",
              "        <matplotlib.axes._subplots.AxesSubplot object at 0x7f3f837219e8>],\n",
              "       [<matplotlib.axes._subplots.AxesSubplot object at 0x7f3f83721a58>,\n",
              "        <matplotlib.axes._subplots.AxesSubplot object at 0x7f3f83693160>,\n",
              "        <matplotlib.axes._subplots.AxesSubplot object at 0x7f3f836454e0>,\n",
              "        <matplotlib.axes._subplots.AxesSubplot object at 0x7f3f835f6860>],\n",
              "       [<matplotlib.axes._subplots.AxesSubplot object at 0x7f3f83629be0>,\n",
              "        <matplotlib.axes._subplots.AxesSubplot object at 0x7f3f835def60>,\n",
              "        <matplotlib.axes._subplots.AxesSubplot object at 0x7f3f8359a320>,\n",
              "        <matplotlib.axes._subplots.AxesSubplot object at 0x7f3f8354c6a0>]],\n",
              "      dtype=object)"
            ]
          },
          "metadata": {
            "tags": []
          },
          "execution_count": 109
        },
        {
          "output_type": "display_data",
          "data": {
            "image/png": "[encoded data removed]",
            "text/plain": [
              "<Figure size 1080x1080 with 16 Axes>"
            ]
          },
          "metadata": {
            "tags": [],
            "needs_background": "light"
          }
        }
      ]
    },
    {
      "cell_type": "code",
      "metadata": {
        "id": "YQt_Qe_nm6eC"
      },
      "source": [
        "from sklearn.preprocessing import StandardScaler, MinMaxScaler, RobustScaler\n",
        "\n",
        "sc = StandardScaler()\n",
        "mms = MinMaxScaler()\n",
        "rs = RobustScaler()\n",
        "\n",
        "for col in ('T', 'RH'):\n",
        "  X[col] = rs.fit_transform(X[[col]])\n",
        "\n",
        "for col in ('C6H6(GT)', 'CO(GT)'):\n",
        "  X[col] = rs.fit_transform(X[[col]])"
      ],
      "execution_count": null,
      "outputs": []
    },
    {
      "cell_type": "code",
      "metadata": {
        "id": "Yc6nDx1NnYw6",
        "outputId": "b8845406-9e56-4d01-a0dd-6b719ba77f24",
        "colab": {
          "base_uri": "https://localhost:8080/",
          "height": 1000
        }
      },
      "source": [
        "X.hist(bins=50, figsize=(15,15))"
      ],
      "execution_count": null,
      "outputs": [
        {
          "output_type": "execute_result",
          "data": {
            "text/plain": [
              "array([[<matplotlib.axes._subplots.AxesSubplot object at 0x7f3f82c50ac8>,\n",
              "        <matplotlib.axes._subplots.AxesSubplot object at 0x7f3f82c945c0>,\n",
              "        <matplotlib.axes._subplots.AxesSubplot object at 0x7f3f82c1d0f0>,\n",
              "        <matplotlib.axes._subplots.AxesSubplot object at 0x7f3f82bc1470>],\n",
              "       [<matplotlib.axes._subplots.AxesSubplot object at 0x7f3f82be57f0>,\n",
              "        <matplotlib.axes._subplots.AxesSubplot object at 0x7f3f82b97b70>,\n",
              "        <matplotlib.axes._subplots.AxesSubplot object at 0x7f3f82b47ef0>,\n",
              "        <matplotlib.axes._subplots.AxesSubplot object at 0x7f3f82b05278>],\n",
              "       [<matplotlib.axes._subplots.AxesSubplot object at 0x7f3f82b052e8>,\n",
              "        <matplotlib.axes._subplots.AxesSubplot object at 0x7f3f82ae89b0>,\n",
              "        <matplotlib.axes._subplots.AxesSubplot object at 0x7f3f82a9dd30>,\n",
              "        <matplotlib.axes._subplots.AxesSubplot object at 0x7f3f82a5b0f0>],\n",
              "       [<matplotlib.axes._subplots.AxesSubplot object at 0x7f3f82a0c470>,\n",
              "        <matplotlib.axes._subplots.AxesSubplot object at 0x7f3f829bd7f0>,\n",
              "        <matplotlib.axes._subplots.AxesSubplot object at 0x7f3f82972b70>,\n",
              "        <matplotlib.axes._subplots.AxesSubplot object at 0x7f3f829a6ef0>]],\n",
              "      dtype=object)"
            ]
          },
          "metadata": {
            "tags": []
          },
          "execution_count": 115
        },
        {
          "output_type": "display_data",
          "data": {
            "image/png": "[encoded data removed]",
            "text/plain": [
              "<Figure size 1080x1080 with 16 Axes>"
            ]
          },
          "metadata": {
            "tags": [],
            "needs_background": "light"
          }
        }
      ]
    },
    {
      "cell_type": "code",
      "metadata": {
        "id": "FTKQSktjgK21"
      },
      "source": [
        "from sklearn.model_selection import train_test_split\n",
        "X_train, X_test, y_train, y_test = train_test_split(X,y, test_size=0.2, random_state=0)"
      ],
      "execution_count": null,
      "outputs": []
    },
    {
      "cell_type": "code",
      "metadata": {
        "id": "7N_o3N3DgYxW",
        "outputId": "eb076097-dd36-4c22-e17e-3fc3c2f434c2",
        "colab": {
          "base_uri": "https://localhost:8080/"
        }
      },
      "source": [
        "from sklearn.linear_model import LinearRegression\n",
        "\n",
        "lr = LinearRegression()\n",
        "lr.fit(X_train, y_train)"
      ],
      "execution_count": null,
      "outputs": [
        {
          "output_type": "execute_result",
          "data": {
            "text/plain": [
              "LinearRegression(copy_X=True, fit_intercept=True, n_jobs=None, normalize=False)"
            ]
          },
          "metadata": {
            "tags": []
          },
          "execution_count": 117
        }
      ]
    },
    {
      "cell_type": "code",
      "metadata": {
        "id": "81w4KWqSgfOB",
        "outputId": "577c530b-7158-471c-f194-1d3c2ecd9ae0",
        "colab": {
          "base_uri": "https://localhost:8080/"
        }
      },
      "source": [
        "preds = lr.predict(X_test)\n",
        "\n",
        "from sklearn.metrics import mean_absolute_error, mean_squared_error\n",
        "\n",
        "#mae = mean_absolute_error(y_test, preds)\n",
        "mse = mean_squared_error(y_test, preds)\n",
        "#rmse = mean_squared_error(y_test, preds, squared=True)\n",
        "mse"
      ],
      "execution_count": null,
      "outputs": [
        {
          "output_type": "execute_result",
          "data": {
            "text/plain": [
              "0.9510899595875496"
            ]
          },
          "metadata": {
            "tags": []
          },
          "execution_count": 118
        }
      ]
    },
    {
      "cell_type": "markdown",
      "metadata": {
        "id": "EqiCU8zdjMwb"
      },
      "source": [
        "- mse: 0.95\n",
        "- mse with delete nmhc: 0.977\n",
        "- mse with mean imputation: 1.15"
      ]
    },
    {
      "cell_type": "markdown",
      "metadata": {
        "id": "cGadzdXIh9Mr"
      },
      "source": [
        "Mean Imputation\n",
        "<img src=\"https://miro.medium.com/max/2816/1*MiJ_HpTbZECYjjF1qepNNQ.png\">"
      ]
    },
    {
      "cell_type": "code",
      "metadata": {
        "id": "_Rb383Nxhi--"
      },
      "source": [
        "from sklearn.impute import SimpleImputer\n",
        "\n",
        "imp = SimpleImputer(missing_values=-200, strategy=\"mean\")\n",
        "X['RH'] = imp.fit_transform(X[['RH']])"
      ],
      "execution_count": null,
      "outputs": []
    },
    {
      "cell_type": "code",
      "metadata": {
        "id": "vOcErUcWieoL",
        "outputId": "e43f7bd1-c700-49cb-a0a4-e787a41f5aa8",
        "colab": {
          "base_uri": "https://localhost:8080/"
        }
      },
      "source": [
        "X[ X['RH'] == -200 ].count()"
      ],
      "execution_count": null,
      "outputs": [
        {
          "output_type": "execute_result",
          "data": {
            "text/plain": [
              "Time             0\n",
              "CO(GT)           0\n",
              "PT08.S1(CO)      0\n",
              "NMHC(GT)         0\n",
              "C6H6(GT)         0\n",
              "PT08.S2(NMHC)    0\n",
              "NOx(GT)          0\n",
              "PT08.S3(NOx)     0\n",
              "NO2(GT)          0\n",
              "PT08.S4(NO2)     0\n",
              "PT08.S5(O3)      0\n",
              "T                0\n",
              "RH               0\n",
              "dtype: int64"
            ]
          },
          "metadata": {
            "tags": []
          },
          "execution_count": 43
        }
      ]
    },
    {
      "cell_type": "code",
      "metadata": {
        "id": "qhnX4HH-ltWt"
      },
      "source": [
        "dataset.fillna(0) # NaNs kol fil dataset iwaliw 0\n",
        "dataset['RH'].fillna(1) #NaNs fil colonne RH kol iwaliw 1\n",
        "\n",
        "data.fillna({\n",
        "    'RH': 1,\n",
        "    'T': 0,\n",
        "    'Country': 'Tunis'\n",
        "})"
      ],
      "execution_count": null,
      "outputs": []
    },
    {
      "cell_type": "markdown",
      "metadata": {
        "id": "IkTghqG0pDuH"
      },
      "source": [
        "# Categorical  Encoding\n",
        "\n",
        "  - **LabelEncoding**: trod les categories nwamir int (not mans7 for features unless bitbi3thom ordonnées ex Time), mansou7 for y (labels)\n",
        "\n",
        "  - **One Hot Eoncoding**: irod il dataframe kbir barcha, ama ya3ti résultat khir mil labelEncoding. Fil cas te3na khdimna bi pd.get_dummies mouch bil One Hot Encoder ta3 Sklearn (travail à la maison)"
      ]
    },
    {
      "cell_type": "code",
      "metadata": {
        "id": "SGVWUdxDpGFY"
      },
      "source": [
        "import pandas as pd\n",
        "import numpy as np\n",
        "from sklearn.metrics import accuracy_score, f1_score\n",
        "from sklearn.svm import SVC\n",
        "from sklearn import neighbors\n",
        "from sklearn.model_selection import train_test_split\n",
        "from sklearn.preprocessing import LabelEncoder, OneHotEncoder\n",
        "import matplotlib.pyplot as plt\n",
        "from sklearn.metrics import confusion_matrix\n",
        "from sklearn.utils import shuffle"
      ],
      "execution_count": null,
      "outputs": []
    },
    {
      "cell_type": "code",
      "metadata": {
        "id": "vocmED3kphrY",
        "outputId": "26c167c4-1f50-4627-ea1a-54ed10f5e2ab",
        "colab": {
          "base_uri": "https://localhost:8080/",
          "height": 196
        }
      },
      "source": [
        "data = pd.read_csv('https://archive.ics.uci.edu/ml/machine-learning-databases/car/car.data',\n",
        "                   names = ['x1', 'x2', 'x3', 'x4', 'x5', 'x6', 'y'])\n",
        "data.head()"
      ],
      "execution_count": null,
      "outputs": [
        {
          "output_type": "execute_result",
          "data": {
            "text/html": [
              "<div>\n",
              "<style scoped>\n",
              "    .dataframe tbody tr th:only-of-type {\n",
              "        vertical-align: middle;\n",
              "    }\n",
              "\n",
              "    .dataframe tbody tr th {\n",
              "        vertical-align: top;\n",
              "    }\n",
              "\n",
              "    .dataframe thead th {\n",
              "        text-align: right;\n",
              "    }\n",
              "</style>\n",
              "<table border=\"1\" class=\"dataframe\">\n",
              "  <thead>\n",
              "    <tr style=\"text-align: right;\">\n",
              "      <th></th>\n",
              "      <th>x1</th>\n",
              "      <th>x2</th>\n",
              "      <th>x3</th>\n",
              "      <th>x4</th>\n",
              "      <th>x5</th>\n",
              "      <th>x6</th>\n",
              "      <th>y</th>\n",
              "    </tr>\n",
              "  </thead>\n",
              "  <tbody>\n",
              "    <tr>\n",
              "      <th>0</th>\n",
              "      <td>vhigh</td>\n",
              "      <td>vhigh</td>\n",
              "      <td>2</td>\n",
              "      <td>2</td>\n",
              "      <td>small</td>\n",
              "      <td>low</td>\n",
              "      <td>unacc</td>\n",
              "    </tr>\n",
              "    <tr>\n",
              "      <th>1</th>\n",
              "      <td>vhigh</td>\n",
              "      <td>vhigh</td>\n",
              "      <td>2</td>\n",
              "      <td>2</td>\n",
              "      <td>small</td>\n",
              "      <td>med</td>\n",
              "      <td>unacc</td>\n",
              "    </tr>\n",
              "    <tr>\n",
              "      <th>2</th>\n",
              "      <td>vhigh</td>\n",
              "      <td>vhigh</td>\n",
              "      <td>2</td>\n",
              "      <td>2</td>\n",
              "      <td>small</td>\n",
              "      <td>high</td>\n",
              "      <td>unacc</td>\n",
              "    </tr>\n",
              "    <tr>\n",
              "      <th>3</th>\n",
              "      <td>vhigh</td>\n",
              "      <td>vhigh</td>\n",
              "      <td>2</td>\n",
              "      <td>2</td>\n",
              "      <td>med</td>\n",
              "      <td>low</td>\n",
              "      <td>unacc</td>\n",
              "    </tr>\n",
              "    <tr>\n",
              "      <th>4</th>\n",
              "      <td>vhigh</td>\n",
              "      <td>vhigh</td>\n",
              "      <td>2</td>\n",
              "      <td>2</td>\n",
              "      <td>med</td>\n",
              "      <td>med</td>\n",
              "      <td>unacc</td>\n",
              "    </tr>\n",
              "  </tbody>\n",
              "</table>\n",
              "</div>"
            ],
            "text/plain": [
              "      x1     x2 x3 x4     x5    x6      y\n",
              "0  vhigh  vhigh  2  2  small   low  unacc\n",
              "1  vhigh  vhigh  2  2  small   med  unacc\n",
              "2  vhigh  vhigh  2  2  small  high  unacc\n",
              "3  vhigh  vhigh  2  2    med   low  unacc\n",
              "4  vhigh  vhigh  2  2    med   med  unacc"
            ]
          },
          "metadata": {
            "tags": []
          },
          "execution_count": 152
        }
      ]
    },
    {
      "cell_type": "code",
      "metadata": {
        "id": "OOAEx2Enr5q1",
        "outputId": "010b661f-8e08-43b1-e3dd-8ebab54ce7e3",
        "colab": {
          "base_uri": "https://localhost:8080/",
          "height": 196
        }
      },
      "source": [
        "data.tail()"
      ],
      "execution_count": null,
      "outputs": [
        {
          "output_type": "execute_result",
          "data": {
            "text/html": [
              "<div>\n",
              "<style scoped>\n",
              "    .dataframe tbody tr th:only-of-type {\n",
              "        vertical-align: middle;\n",
              "    }\n",
              "\n",
              "    .dataframe tbody tr th {\n",
              "        vertical-align: top;\n",
              "    }\n",
              "\n",
              "    .dataframe thead th {\n",
              "        text-align: right;\n",
              "    }\n",
              "</style>\n",
              "<table border=\"1\" class=\"dataframe\">\n",
              "  <thead>\n",
              "    <tr style=\"text-align: right;\">\n",
              "      <th></th>\n",
              "      <th>x1</th>\n",
              "      <th>x2</th>\n",
              "      <th>x3</th>\n",
              "      <th>x4</th>\n",
              "      <th>x5</th>\n",
              "      <th>x6</th>\n",
              "      <th>y</th>\n",
              "    </tr>\n",
              "  </thead>\n",
              "  <tbody>\n",
              "    <tr>\n",
              "      <th>1723</th>\n",
              "      <td>low</td>\n",
              "      <td>low</td>\n",
              "      <td>5more</td>\n",
              "      <td>more</td>\n",
              "      <td>med</td>\n",
              "      <td>med</td>\n",
              "      <td>good</td>\n",
              "    </tr>\n",
              "    <tr>\n",
              "      <th>1724</th>\n",
              "      <td>low</td>\n",
              "      <td>low</td>\n",
              "      <td>5more</td>\n",
              "      <td>more</td>\n",
              "      <td>med</td>\n",
              "      <td>high</td>\n",
              "      <td>vgood</td>\n",
              "    </tr>\n",
              "    <tr>\n",
              "      <th>1725</th>\n",
              "      <td>low</td>\n",
              "      <td>low</td>\n",
              "      <td>5more</td>\n",
              "      <td>more</td>\n",
              "      <td>big</td>\n",
              "      <td>low</td>\n",
              "      <td>unacc</td>\n",
              "    </tr>\n",
              "    <tr>\n",
              "      <th>1726</th>\n",
              "      <td>low</td>\n",
              "      <td>low</td>\n",
              "      <td>5more</td>\n",
              "      <td>more</td>\n",
              "      <td>big</td>\n",
              "      <td>med</td>\n",
              "      <td>good</td>\n",
              "    </tr>\n",
              "    <tr>\n",
              "      <th>1727</th>\n",
              "      <td>low</td>\n",
              "      <td>low</td>\n",
              "      <td>5more</td>\n",
              "      <td>more</td>\n",
              "      <td>big</td>\n",
              "      <td>high</td>\n",
              "      <td>vgood</td>\n",
              "    </tr>\n",
              "  </tbody>\n",
              "</table>\n",
              "</div>"
            ],
            "text/plain": [
              "       x1   x2     x3    x4   x5    x6      y\n",
              "1723  low  low  5more  more  med   med   good\n",
              "1724  low  low  5more  more  med  high  vgood\n",
              "1725  low  low  5more  more  big   low  unacc\n",
              "1726  low  low  5more  more  big   med   good\n",
              "1727  low  low  5more  more  big  high  vgood"
            ]
          },
          "metadata": {
            "tags": []
          },
          "execution_count": 140
        }
      ]
    },
    {
      "cell_type": "code",
      "metadata": {
        "id": "OWssOtDWpzXT",
        "outputId": "f69fb8e4-d222-4576-cc5c-0dfa4f7ae520",
        "colab": {
          "base_uri": "https://localhost:8080/"
        }
      },
      "source": [
        "data.shape"
      ],
      "execution_count": null,
      "outputs": [
        {
          "output_type": "execute_result",
          "data": {
            "text/plain": [
              "(1728, 7)"
            ]
          },
          "metadata": {
            "tags": []
          },
          "execution_count": 122
        }
      ]
    },
    {
      "cell_type": "code",
      "metadata": {
        "id": "tZAZefiTp17L",
        "outputId": "f6e177a7-48d0-464a-c380-24e44cd27f6f",
        "colab": {
          "base_uri": "https://localhost:8080/"
        }
      },
      "source": [
        "data.isna().sum()"
      ],
      "execution_count": null,
      "outputs": [
        {
          "output_type": "execute_result",
          "data": {
            "text/plain": [
              "x1    0\n",
              "x2    0\n",
              "x3    0\n",
              "x4    0\n",
              "x5    0\n",
              "x6    0\n",
              "y     0\n",
              "dtype: int64"
            ]
          },
          "metadata": {
            "tags": []
          },
          "execution_count": 123
        }
      ]
    },
    {
      "cell_type": "code",
      "metadata": {
        "id": "RbjXt1hOp5Az"
      },
      "source": [
        "X = data.drop('y', axis=1)\n",
        "y = data['y']"
      ],
      "execution_count": null,
      "outputs": []
    },
    {
      "cell_type": "code",
      "metadata": {
        "id": "ryRbqwShuW4h"
      },
      "source": [
        "# One Hot Encoder sklarn / pandas dummies (dmmy variables)"
      ],
      "execution_count": null,
      "outputs": []
    },
    {
      "cell_type": "code",
      "metadata": {
        "id": "NUsrcZl-wO9L"
      },
      "source": [
        "X_dummied = pd.get_dummies(X, columns= X.columns)"
      ],
      "execution_count": null,
      "outputs": []
    },
    {
      "cell_type": "code",
      "metadata": {
        "id": "rvUt9TLbp84J",
        "outputId": "9a2ed572-ab44-4e85-ee90-00f0c829fb60",
        "colab": {
          "base_uri": "https://localhost:8080/"
        }
      },
      "source": [
        "le = LabelEncoder()\n",
        "\n",
        "for col in X.columns:\n",
        "  X[col] = le.fit_transform(X[[col]])"
      ],
      "execution_count": null,
      "outputs": [
        {
          "output_type": "stream",
          "text": [
            "/usr/local/lib/python3.6/dist-packages/sklearn/preprocessing/_label.py:251: DataConversionWarning: A column-vector y was passed when a 1d array was expected. Please change the shape of y to (n_samples, ), for example using ravel().\n",
            "  y = column_or_1d(y, warn=True)\n"
          ],
          "name": "stderr"
        }
      ]
    },
    {
      "cell_type": "code",
      "metadata": {
        "id": "wjZjQJMlrt7-",
        "outputId": "39b953a4-af73-4824-940b-06adba39dd77",
        "colab": {
          "base_uri": "https://localhost:8080/"
        }
      },
      "source": [
        "y = le.fit_transform(y)\n",
        "le.classes_"
      ],
      "execution_count": null,
      "outputs": [
        {
          "output_type": "execute_result",
          "data": {
            "text/plain": [
              "array(['acc', 'good', 'unacc', 'vgood'], dtype=object)"
            ]
          },
          "metadata": {
            "tags": []
          },
          "execution_count": 168
        }
      ]
    },
    {
      "cell_type": "code",
      "metadata": {
        "id": "Y3dk9JGhsJNX"
      },
      "source": [
        "y.unique()"
      ],
      "execution_count": null,
      "outputs": []
    },
    {
      "cell_type": "code",
      "metadata": {
        "id": "0Li8YVEvqaon"
      },
      "source": [
        "label_dict = {\n",
        "    'unacc': 0,\n",
        "    'acc': 1,\n",
        "    'good': 2,\n",
        "    'vgood': 3\n",
        "}\n",
        "\n",
        "y = y.map(label_dict)"
      ],
      "execution_count": null,
      "outputs": []
    },
    {
      "cell_type": "code",
      "metadata": {
        "id": "b4kwDxdur_BX"
      },
      "source": [
        "X_train, X_test, y_train, y_test = train_test_split(X_dummied, y, test_size=0.1, random_state=0)"
      ],
      "execution_count": null,
      "outputs": []
    },
    {
      "cell_type": "code",
      "metadata": {
        "id": "FR6704UUsSGJ",
        "outputId": "86df78f2-3cad-4c10-d594-79e20ab97253",
        "colab": {
          "base_uri": "https://localhost:8080/"
        }
      },
      "source": [
        "svm = SVC()\n",
        "knn = KNeighborsClassifier()\n",
        "\n",
        "for i,model in enumerate([svm, knn]):\n",
        "  model.fit(X_train, y_train)\n",
        "  preds = model.predict(X_test)\n",
        "\n",
        "  acc = accuracy_score(y_test, preds)\n",
        "  f1 = f1_score(y_test, preds, average=\"micro\")\n",
        "  cm = confusion_matrix(y_test, preds)\n",
        "\n",
        "  print(f'''Model {i}: \\n acc: {round(acc,2)} \\n f1: {round(f1,2)} \\n\\n CM: \\n {cm} \\n\\n ''')"
      ],
      "execution_count": null,
      "outputs": [
        {
          "output_type": "stream",
          "text": [
            "Model 0: \n",
            " acc: 0.92 \n",
            " f1: 0.92 \n",
            "\n",
            " CM: \n",
            " [[ 38   4   0   0]\n",
            " [  0   3   0   4]\n",
            " [  5   0 115   0]\n",
            " [  0   0   0   4]] \n",
            "\n",
            " \n",
            "Model 1: \n",
            " acc: 0.9 \n",
            " f1: 0.9 \n",
            "\n",
            " CM: \n",
            " [[ 36   3   3   0]\n",
            " [  4   2   1   0]\n",
            " [  3   0 117   0]\n",
            " [  0   2   2   0]] \n",
            "\n",
            " \n"
          ],
          "name": "stdout"
        }
      ]
    },
    {
      "cell_type": "markdown",
      "metadata": {
        "id": "7Bm7RmEWFZXB"
      },
      "source": [
        "# K fold Cross Validation"
      ]
    },
    {
      "cell_type": "code",
      "metadata": {
        "id": "cw8S9tLEFYyg"
      },
      "source": [
        "import pandas as pd\n",
        "from sklearn.neighbors import KNeighborsClassifier\n",
        "from sklearn.model_selection import train_test_split\n",
        "from sklearn.metrics import confusion_matrix, accuracy_score"
      ],
      "execution_count": null,
      "outputs": []
    },
    {
      "cell_type": "code",
      "metadata": {
        "id": "JGux37gUGPwT",
        "outputId": "d877d7b1-5823-4f74-cce3-fd3463787966",
        "colab": {
          "base_uri": "https://localhost:8080/",
          "height": 216
        }
      },
      "source": [
        "data = pd.read_csv('dataset_malwares.csv')\n",
        "data.head()"
      ],
      "execution_count": null,
      "outputs": [
        {
          "output_type": "execute_result",
          "data": {
            "text/html": [
              "<div>\n",
              "<style scoped>\n",
              "    .dataframe tbody tr th:only-of-type {\n",
              "        vertical-align: middle;\n",
              "    }\n",
              "\n",
              "    .dataframe tbody tr th {\n",
              "        vertical-align: top;\n",
              "    }\n",
              "\n",
              "    .dataframe thead th {\n",
              "        text-align: right;\n",
              "    }\n",
              "</style>\n",
              "<table border=\"1\" class=\"dataframe\">\n",
              "  <thead>\n",
              "    <tr style=\"text-align: right;\">\n",
              "      <th></th>\n",
              "      <th>Name</th>\n",
              "      <th>e_magic</th>\n",
              "      <th>e_cblp</th>\n",
              "      <th>e_cp</th>\n",
              "      <th>e_crlc</th>\n",
              "      <th>e_cparhdr</th>\n",
              "      <th>e_minalloc</th>\n",
              "      <th>e_maxalloc</th>\n",
              "      <th>e_ss</th>\n",
              "      <th>e_sp</th>\n",
              "      <th>e_csum</th>\n",
              "      <th>e_ip</th>\n",
              "      <th>e_cs</th>\n",
              "      <th>e_lfarlc</th>\n",
              "      <th>e_ovno</th>\n",
              "      <th>e_oemid</th>\n",
              "      <th>e_oeminfo</th>\n",
              "      <th>e_lfanew</th>\n",
              "      <th>Machine</th>\n",
              "      <th>NumberOfSections</th>\n",
              "      <th>TimeDateStamp</th>\n",
              "      <th>PointerToSymbolTable</th>\n",
              "      <th>NumberOfSymbols</th>\n",
              "      <th>SizeOfOptionalHeader</th>\n",
              "      <th>Characteristics</th>\n",
              "      <th>Magic</th>\n",
              "      <th>MajorLinkerVersion</th>\n",
              "      <th>MinorLinkerVersion</th>\n",
              "      <th>SizeOfCode</th>\n",
              "      <th>SizeOfInitializedData</th>\n",
              "      <th>SizeOfUninitializedData</th>\n",
              "      <th>AddressOfEntryPoint</th>\n",
              "      <th>BaseOfCode</th>\n",
              "      <th>ImageBase</th>\n",
              "      <th>SectionAlignment</th>\n",
              "      <th>FileAlignment</th>\n",
              "      <th>MajorOperatingSystemVersion</th>\n",
              "      <th>MinorOperatingSystemVersion</th>\n",
              "      <th>MajorImageVersion</th>\n",
              "      <th>MinorImageVersion</th>\n",
              "      <th>MajorSubsystemVersion</th>\n",
              "      <th>MinorSubsystemVersion</th>\n",
              "      <th>SizeOfHeaders</th>\n",
              "      <th>CheckSum</th>\n",
              "      <th>SizeOfImage</th>\n",
              "      <th>Subsystem</th>\n",
              "      <th>DllCharacteristics</th>\n",
              "      <th>SizeOfStackReserve</th>\n",
              "      <th>SizeOfStackCommit</th>\n",
              "      <th>SizeOfHeapReserve</th>\n",
              "      <th>SizeOfHeapCommit</th>\n",
              "      <th>LoaderFlags</th>\n",
              "      <th>NumberOfRvaAndSizes</th>\n",
              "      <th>Malware</th>\n",
              "      <th>SuspiciousImportFunctions</th>\n",
              "      <th>SuspiciousNameSection</th>\n",
              "      <th>SectionsLength</th>\n",
              "      <th>SectionMinEntropy</th>\n",
              "      <th>SectionMaxEntropy</th>\n",
              "      <th>SectionMinRawsize</th>\n",
              "      <th>SectionMaxRawsize</th>\n",
              "      <th>SectionMinVirtualsize</th>\n",
              "      <th>SectionMaxVirtualsize</th>\n",
              "      <th>SectionMaxPhysical</th>\n",
              "      <th>SectionMinPhysical</th>\n",
              "      <th>SectionMaxVirtual</th>\n",
              "      <th>SectionMinVirtual</th>\n",
              "      <th>SectionMaxPointerData</th>\n",
              "      <th>SectionMinPointerData</th>\n",
              "      <th>SectionMaxChar</th>\n",
              "      <th>SectionMainChar</th>\n",
              "      <th>DirectoryEntryImport</th>\n",
              "      <th>DirectoryEntryImportSize</th>\n",
              "      <th>DirectoryEntryExport</th>\n",
              "      <th>ImageDirectoryEntryExport</th>\n",
              "      <th>ImageDirectoryEntryImport</th>\n",
              "      <th>ImageDirectoryEntryResource</th>\n",
              "      <th>ImageDirectoryEntryException</th>\n",
              "      <th>ImageDirectoryEntrySecurity</th>\n",
              "    </tr>\n",
              "  </thead>\n",
              "  <tbody>\n",
              "    <tr>\n",
              "      <th>0</th>\n",
              "      <td>VirusShare_a878ba26000edaac5c98eff4432723b3</td>\n",
              "      <td>23117</td>\n",
              "      <td>144</td>\n",
              "      <td>3</td>\n",
              "      <td>0</td>\n",
              "      <td>4</td>\n",
              "      <td>0</td>\n",
              "      <td>65535</td>\n",
              "      <td>0</td>\n",
              "      <td>184</td>\n",
              "      <td>0</td>\n",
              "      <td>0</td>\n",
              "      <td>0</td>\n",
              "      <td>64</td>\n",
              "      <td>0</td>\n",
              "      <td>0</td>\n",
              "      <td>0</td>\n",
              "      <td>248</td>\n",
              "      <td>34404</td>\n",
              "      <td>6</td>\n",
              "      <td>1236512358</td>\n",
              "      <td>0</td>\n",
              "      <td>0</td>\n",
              "      <td>240</td>\n",
              "      <td>34</td>\n",
              "      <td>523</td>\n",
              "      <td>8</td>\n",
              "      <td>0</td>\n",
              "      <td>54784</td>\n",
              "      <td>189440</td>\n",
              "      <td>0</td>\n",
              "      <td>51316</td>\n",
              "      <td>4096</td>\n",
              "      <td>4294967296</td>\n",
              "      <td>4096</td>\n",
              "      <td>512</td>\n",
              "      <td>6</td>\n",
              "      <td>0</td>\n",
              "      <td>6</td>\n",
              "      <td>0</td>\n",
              "      <td>5</td>\n",
              "      <td>2</td>\n",
              "      <td>1024</td>\n",
              "      <td>295281</td>\n",
              "      <td>274432</td>\n",
              "      <td>2</td>\n",
              "      <td>32832</td>\n",
              "      <td>524288</td>\n",
              "      <td>8192</td>\n",
              "      <td>1048576</td>\n",
              "      <td>4096</td>\n",
              "      <td>0</td>\n",
              "      <td>16</td>\n",
              "      <td>1</td>\n",
              "      <td>0</td>\n",
              "      <td>0</td>\n",
              "      <td>6</td>\n",
              "      <td>0.000000</td>\n",
              "      <td>0</td>\n",
              "      <td>512</td>\n",
              "      <td>0</td>\n",
              "      <td>274</td>\n",
              "      <td>0</td>\n",
              "      <td>188416</td>\n",
              "      <td>0</td>\n",
              "      <td>270336</td>\n",
              "      <td>0</td>\n",
              "      <td>245248</td>\n",
              "      <td>0</td>\n",
              "      <td>3758096608</td>\n",
              "      <td>0</td>\n",
              "      <td>7</td>\n",
              "      <td>152</td>\n",
              "      <td>0</td>\n",
              "      <td>0</td>\n",
              "      <td>54440</td>\n",
              "      <td>77824</td>\n",
              "      <td>73728</td>\n",
              "      <td>0</td>\n",
              "    </tr>\n",
              "    <tr>\n",
              "      <th>1</th>\n",
              "      <td>VirusShare_ef9130570fddc174b312b2047f5f4cf0</td>\n",
              "      <td>23117</td>\n",
              "      <td>144</td>\n",
              "      <td>3</td>\n",
              "      <td>0</td>\n",
              "      <td>4</td>\n",
              "      <td>0</td>\n",
              "      <td>65535</td>\n",
              "      <td>0</td>\n",
              "      <td>184</td>\n",
              "      <td>0</td>\n",
              "      <td>0</td>\n",
              "      <td>0</td>\n",
              "      <td>64</td>\n",
              "      <td>0</td>\n",
              "      <td>0</td>\n",
              "      <td>0</td>\n",
              "      <td>240</td>\n",
              "      <td>332</td>\n",
              "      <td>5</td>\n",
              "      <td>1365109591</td>\n",
              "      <td>0</td>\n",
              "      <td>0</td>\n",
              "      <td>224</td>\n",
              "      <td>258</td>\n",
              "      <td>267</td>\n",
              "      <td>9</td>\n",
              "      <td>0</td>\n",
              "      <td>205824</td>\n",
              "      <td>139264</td>\n",
              "      <td>0</td>\n",
              "      <td>84654</td>\n",
              "      <td>4096</td>\n",
              "      <td>4194304</td>\n",
              "      <td>4096</td>\n",
              "      <td>512</td>\n",
              "      <td>5</td>\n",
              "      <td>0</td>\n",
              "      <td>0</td>\n",
              "      <td>0</td>\n",
              "      <td>5</td>\n",
              "      <td>0</td>\n",
              "      <td>1024</td>\n",
              "      <td>0</td>\n",
              "      <td>442368</td>\n",
              "      <td>2</td>\n",
              "      <td>33088</td>\n",
              "      <td>1048576</td>\n",
              "      <td>4096</td>\n",
              "      <td>1048576</td>\n",
              "      <td>4096</td>\n",
              "      <td>0</td>\n",
              "      <td>16</td>\n",
              "      <td>1</td>\n",
              "      <td>0</td>\n",
              "      <td>0</td>\n",
              "      <td>5</td>\n",
              "      <td>3.815281</td>\n",
              "      <td>0</td>\n",
              "      <td>8704</td>\n",
              "      <td>0</td>\n",
              "      <td>24124</td>\n",
              "      <td>0</td>\n",
              "      <td>205680</td>\n",
              "      <td>0</td>\n",
              "      <td>339968</td>\n",
              "      <td>0</td>\n",
              "      <td>314880</td>\n",
              "      <td>0</td>\n",
              "      <td>3791650880</td>\n",
              "      <td>0</td>\n",
              "      <td>16</td>\n",
              "      <td>311</td>\n",
              "      <td>0</td>\n",
              "      <td>0</td>\n",
              "      <td>262276</td>\n",
              "      <td>294912</td>\n",
              "      <td>0</td>\n",
              "      <td>346112</td>\n",
              "    </tr>\n",
              "    <tr>\n",
              "      <th>2</th>\n",
              "      <td>VirusShare_ef84cdeba22be72a69b198213dada81a</td>\n",
              "      <td>23117</td>\n",
              "      <td>144</td>\n",
              "      <td>3</td>\n",
              "      <td>0</td>\n",
              "      <td>4</td>\n",
              "      <td>0</td>\n",
              "      <td>65535</td>\n",
              "      <td>0</td>\n",
              "      <td>184</td>\n",
              "      <td>0</td>\n",
              "      <td>0</td>\n",
              "      <td>0</td>\n",
              "      <td>64</td>\n",
              "      <td>0</td>\n",
              "      <td>0</td>\n",
              "      <td>0</td>\n",
              "      <td>256</td>\n",
              "      <td>332</td>\n",
              "      <td>6</td>\n",
              "      <td>1438777028</td>\n",
              "      <td>0</td>\n",
              "      <td>0</td>\n",
              "      <td>224</td>\n",
              "      <td>14</td>\n",
              "      <td>267</td>\n",
              "      <td>6</td>\n",
              "      <td>0</td>\n",
              "      <td>24576</td>\n",
              "      <td>20480</td>\n",
              "      <td>0</td>\n",
              "      <td>27364</td>\n",
              "      <td>256</td>\n",
              "      <td>4194304</td>\n",
              "      <td>4096</td>\n",
              "      <td>4096</td>\n",
              "      <td>4</td>\n",
              "      <td>0</td>\n",
              "      <td>0</td>\n",
              "      <td>0</td>\n",
              "      <td>4</td>\n",
              "      <td>0</td>\n",
              "      <td>4096</td>\n",
              "      <td>0</td>\n",
              "      <td>49152</td>\n",
              "      <td>2</td>\n",
              "      <td>0</td>\n",
              "      <td>1048576</td>\n",
              "      <td>4096</td>\n",
              "      <td>1048576</td>\n",
              "      <td>69632</td>\n",
              "      <td>0</td>\n",
              "      <td>528</td>\n",
              "      <td>1</td>\n",
              "      <td>0</td>\n",
              "      <td>0</td>\n",
              "      <td>6</td>\n",
              "      <td>0.103538</td>\n",
              "      <td>0</td>\n",
              "      <td>4096</td>\n",
              "      <td>0</td>\n",
              "      <td>329</td>\n",
              "      <td>0</td>\n",
              "      <td>24065</td>\n",
              "      <td>0</td>\n",
              "      <td>45056</td>\n",
              "      <td>0</td>\n",
              "      <td>45056</td>\n",
              "      <td>0</td>\n",
              "      <td>3221225536</td>\n",
              "      <td>0</td>\n",
              "      <td>6</td>\n",
              "      <td>176</td>\n",
              "      <td>0</td>\n",
              "      <td>0</td>\n",
              "      <td>36864</td>\n",
              "      <td>40960</td>\n",
              "      <td>0</td>\n",
              "      <td>0</td>\n",
              "    </tr>\n",
              "    <tr>\n",
              "      <th>3</th>\n",
              "      <td>VirusShare_6bf3608e60ebc16cbcff6ed5467d469e</td>\n",
              "      <td>23117</td>\n",
              "      <td>144</td>\n",
              "      <td>3</td>\n",
              "      <td>0</td>\n",
              "      <td>4</td>\n",
              "      <td>0</td>\n",
              "      <td>65535</td>\n",
              "      <td>0</td>\n",
              "      <td>184</td>\n",
              "      <td>0</td>\n",
              "      <td>0</td>\n",
              "      <td>0</td>\n",
              "      <td>64</td>\n",
              "      <td>0</td>\n",
              "      <td>0</td>\n",
              "      <td>0</td>\n",
              "      <td>128</td>\n",
              "      <td>332</td>\n",
              "      <td>7</td>\n",
              "      <td>1354629311</td>\n",
              "      <td>0</td>\n",
              "      <td>0</td>\n",
              "      <td>224</td>\n",
              "      <td>783</td>\n",
              "      <td>267</td>\n",
              "      <td>2</td>\n",
              "      <td>22</td>\n",
              "      <td>34304</td>\n",
              "      <td>28160</td>\n",
              "      <td>297472</td>\n",
              "      <td>16685</td>\n",
              "      <td>4096</td>\n",
              "      <td>4194304</td>\n",
              "      <td>4096</td>\n",
              "      <td>512</td>\n",
              "      <td>4</td>\n",
              "      <td>0</td>\n",
              "      <td>6</td>\n",
              "      <td>0</td>\n",
              "      <td>4</td>\n",
              "      <td>0</td>\n",
              "      <td>1024</td>\n",
              "      <td>14174816</td>\n",
              "      <td>1032192</td>\n",
              "      <td>2</td>\n",
              "      <td>32768</td>\n",
              "      <td>2097152</td>\n",
              "      <td>4096</td>\n",
              "      <td>1048576</td>\n",
              "      <td>4096</td>\n",
              "      <td>0</td>\n",
              "      <td>16</td>\n",
              "      <td>1</td>\n",
              "      <td>14</td>\n",
              "      <td>0</td>\n",
              "      <td>7</td>\n",
              "      <td>0.000000</td>\n",
              "      <td>0</td>\n",
              "      <td>0</td>\n",
              "      <td>0</td>\n",
              "      <td>144</td>\n",
              "      <td>0</td>\n",
              "      <td>638976</td>\n",
              "      <td>0</td>\n",
              "      <td>1003520</td>\n",
              "      <td>0</td>\n",
              "      <td>58880</td>\n",
              "      <td>0</td>\n",
              "      <td>3224371328</td>\n",
              "      <td>0</td>\n",
              "      <td>8</td>\n",
              "      <td>155</td>\n",
              "      <td>0</td>\n",
              "      <td>0</td>\n",
              "      <td>356352</td>\n",
              "      <td>1003520</td>\n",
              "      <td>0</td>\n",
              "      <td>14109472</td>\n",
              "    </tr>\n",
              "    <tr>\n",
              "      <th>4</th>\n",
              "      <td>VirusShare_2cc94d952b2efb13c7d6bbe0dd59d3fb</td>\n",
              "      <td>23117</td>\n",
              "      <td>144</td>\n",
              "      <td>3</td>\n",
              "      <td>0</td>\n",
              "      <td>4</td>\n",
              "      <td>0</td>\n",
              "      <td>65535</td>\n",
              "      <td>0</td>\n",
              "      <td>184</td>\n",
              "      <td>0</td>\n",
              "      <td>0</td>\n",
              "      <td>0</td>\n",
              "      <td>64</td>\n",
              "      <td>0</td>\n",
              "      <td>0</td>\n",
              "      <td>0</td>\n",
              "      <td>128</td>\n",
              "      <td>332</td>\n",
              "      <td>7</td>\n",
              "      <td>1386631250</td>\n",
              "      <td>0</td>\n",
              "      <td>0</td>\n",
              "      <td>224</td>\n",
              "      <td>783</td>\n",
              "      <td>267</td>\n",
              "      <td>2</td>\n",
              "      <td>56</td>\n",
              "      <td>8192</td>\n",
              "      <td>89600</td>\n",
              "      <td>512</td>\n",
              "      <td>4416</td>\n",
              "      <td>4096</td>\n",
              "      <td>4194304</td>\n",
              "      <td>4096</td>\n",
              "      <td>512</td>\n",
              "      <td>4</td>\n",
              "      <td>0</td>\n",
              "      <td>1</td>\n",
              "      <td>0</td>\n",
              "      <td>4</td>\n",
              "      <td>0</td>\n",
              "      <td>1024</td>\n",
              "      <td>0</td>\n",
              "      <td>110592</td>\n",
              "      <td>2</td>\n",
              "      <td>0</td>\n",
              "      <td>2097152</td>\n",
              "      <td>4096</td>\n",
              "      <td>1048576</td>\n",
              "      <td>4096</td>\n",
              "      <td>0</td>\n",
              "      <td>16</td>\n",
              "      <td>1</td>\n",
              "      <td>2</td>\n",
              "      <td>0</td>\n",
              "      <td>7</td>\n",
              "      <td>0.000000</td>\n",
              "      <td>0</td>\n",
              "      <td>0</td>\n",
              "      <td>0</td>\n",
              "      <td>24</td>\n",
              "      <td>0</td>\n",
              "      <td>42916</td>\n",
              "      <td>0</td>\n",
              "      <td>73728</td>\n",
              "      <td>0</td>\n",
              "      <td>54784</td>\n",
              "      <td>0</td>\n",
              "      <td>3227516992</td>\n",
              "      <td>0</td>\n",
              "      <td>2</td>\n",
              "      <td>43</td>\n",
              "      <td>0</td>\n",
              "      <td>0</td>\n",
              "      <td>61440</td>\n",
              "      <td>73728</td>\n",
              "      <td>0</td>\n",
              "      <td>90624</td>\n",
              "    </tr>\n",
              "  </tbody>\n",
              "</table>\n",
              "</div>"
            ],
            "text/plain": [
              "                                          Name  ...  ImageDirectoryEntrySecurity\n",
              "0  VirusShare_a878ba26000edaac5c98eff4432723b3  ...                            0\n",
              "1  VirusShare_ef9130570fddc174b312b2047f5f4cf0  ...                       346112\n",
              "2  VirusShare_ef84cdeba22be72a69b198213dada81a  ...                            0\n",
              "3  VirusShare_6bf3608e60ebc16cbcff6ed5467d469e  ...                     14109472\n",
              "4  VirusShare_2cc94d952b2efb13c7d6bbe0dd59d3fb  ...                        90624\n",
              "\n",
              "[5 rows x 79 columns]"
            ]
          },
          "metadata": {
            "tags": []
          },
          "execution_count": 176
        }
      ]
    },
    {
      "cell_type": "code",
      "metadata": {
        "id": "8lnCDuu4HNq-",
        "outputId": "1be6edd6-8ac8-4688-f006-94516fa2df46",
        "colab": {
          "base_uri": "https://localhost:8080/"
        }
      },
      "source": [
        "data['Malware'].value_counts()"
      ],
      "execution_count": null,
      "outputs": [
        {
          "output_type": "execute_result",
          "data": {
            "text/plain": [
              "1    14599\n",
              "0     5012\n",
              "Name: Malware, dtype: int64"
            ]
          },
          "metadata": {
            "tags": []
          },
          "execution_count": 197
        }
      ]
    },
    {
      "cell_type": "code",
      "metadata": {
        "id": "5VZwJmkOGbpy"
      },
      "source": [
        "data.drop('Name', axis=1, inplace=True)"
      ],
      "execution_count": null,
      "outputs": []
    },
    {
      "cell_type": "code",
      "metadata": {
        "id": "Z6gIOOtCGk2A"
      },
      "source": [
        "X = data.drop('Malware', axis=1)\n",
        "y = data['Malware']"
      ],
      "execution_count": null,
      "outputs": []
    },
    {
      "cell_type": "code",
      "metadata": {
        "id": "uY8bCPfjGsNg"
      },
      "source": [
        "X_train, X_test, y_train, y_test = train_test_split(X, y, test_size=0.2, random_state=0)"
      ],
      "execution_count": null,
      "outputs": []
    },
    {
      "cell_type": "code",
      "metadata": {
        "id": "Q-kXXPgyG0a4"
      },
      "source": [
        "knn = KNeighborsClassifier(n_neighbors=5)\n",
        "knn.fit(X_train, y_train)\n",
        "preds = knn.predict(X_test)"
      ],
      "execution_count": null,
      "outputs": []
    },
    {
      "cell_type": "code",
      "metadata": {
        "id": "HfiBCSWFG9SG",
        "outputId": "4a1fa021-a9c2-4470-f025-b6b221cdded2",
        "colab": {
          "base_uri": "https://localhost:8080/"
        }
      },
      "source": [
        "accuracy_score(y_test, preds)"
      ],
      "execution_count": null,
      "outputs": [
        {
          "output_type": "execute_result",
          "data": {
            "text/plain": [
              "0.9841957685444813"
            ]
          },
          "metadata": {
            "tags": []
          },
          "execution_count": 181
        }
      ]
    },
    {
      "cell_type": "code",
      "metadata": {
        "id": "vEuztuo-HBkZ",
        "outputId": "9be6bc2a-41b8-4c72-d3ca-b1e94d659c8b",
        "colab": {
          "base_uri": "https://localhost:8080/"
        }
      },
      "source": [
        "confusion_matrix(y_test, preds)"
      ],
      "execution_count": null,
      "outputs": [
        {
          "output_type": "execute_result",
          "data": {
            "text/plain": [
              "array([[ 976,   28],\n",
              "       [  34, 2885]])"
            ]
          },
          "metadata": {
            "tags": []
          },
          "execution_count": 182
        }
      ]
    },
    {
      "cell_type": "code",
      "metadata": {
        "id": "_rkaSDwlIGdm",
        "outputId": "7935a0f7-7644-4b94-ca34-24491fb7b6ba",
        "colab": {
          "base_uri": "https://localhost:8080/"
        }
      },
      "source": [
        "from sklearn.model_selection import cross_val_score\n",
        "\n",
        "knn = KNeighborsClassifier(n_neighbors=5)\n",
        "\n",
        "scores = cross_val_score(knn, X_train, y_train, cv=10, scoring='accuracy')"
      ],
      "execution_count": null,
      "outputs": [
        {
          "output_type": "execute_result",
          "data": {
            "text/plain": [
              "array([0.98597833, 0.98725303, 0.98151689, 0.98406628, 0.98406628,\n",
              "       0.98342894, 0.98151689, 0.98342894, 0.98788265, 0.98405612])"
            ]
          },
          "metadata": {
            "tags": []
          },
          "execution_count": 198
        }
      ]
    },
    {
      "cell_type": "code",
      "metadata": {
        "id": "FxUjZ8PnI8FK",
        "outputId": "e3e8c05d-f7b1-4925-8fb7-4e1fff7eaa9b",
        "colab": {
          "base_uri": "https://localhost:8080/"
        }
      },
      "source": [
        "scores.mean()"
      ],
      "execution_count": null,
      "outputs": [
        {
          "output_type": "execute_result",
          "data": {
            "text/plain": [
              "0.9843194352310715"
            ]
          },
          "metadata": {
            "tags": []
          },
          "execution_count": 199
        }
      ]
    },
    {
      "cell_type": "code",
      "metadata": {
        "id": "qSnjHqH8Joxq"
      },
      "source": [
        "from tqdm import tqdm"
      ],
      "execution_count": null,
      "outputs": []
    },
    {
      "cell_type": "code",
      "metadata": {
        "id": "nRevTBtbJNax",
        "outputId": "afbf069f-e18d-4830-edcd-4facb7b17423",
        "colab": {
          "base_uri": "https://localhost:8080/"
        }
      },
      "source": [
        "k_scores = []\n",
        "\n",
        "for k in tqdm(range(1,10)):\n",
        "  knn = KNeighborsClassifier(n_neighbors=k)\n",
        "  scores = cross_val_score(knn, X_train, y_train, cv=10, scoring='accuracy')\n",
        "  k_scores.append(scores.mean())"
      ],
      "execution_count": null,
      "outputs": [
        {
          "output_type": "stream",
          "text": [
            "100%|██████████| 9/9 [01:23<00:00,  9.31s/it]\n"
          ],
          "name": "stderr"
        }
      ]
    },
    {
      "cell_type": "code",
      "metadata": {
        "id": "5ulR1zWpKE8r",
        "outputId": "b1c1f968-fbd4-45e2-eaea-91a05d79981b",
        "colab": {
          "base_uri": "https://localhost:8080/",
          "height": 296
        }
      },
      "source": [
        "import matplotlib.pyplot as plt\n",
        "\n",
        "plt.plot(range(1,10), k_scores)\n",
        "plt.xlabel(\"Value of K\")\n",
        "plt.ylabel('Mean Score')"
      ],
      "execution_count": null,
      "outputs": [
        {
          "output_type": "execute_result",
          "data": {
            "text/plain": [
              "Text(0, 0.5, 'Mean Score')"
            ]
          },
          "metadata": {
            "tags": []
          },
          "execution_count": 204
        },
        {
          "output_type": "display_data",
          "data": {
            "image/png": "[encoded data removed]",
            "text/plain": [
              "<Figure size 432x288 with 1 Axes>"
            ]
          },
          "metadata": {
            "tags": [],
            "needs_background": "light"
          }
        }
      ]
    },
    {
      "cell_type": "code",
      "metadata": {
        "id": "ZrRexLDvKvFy"
      },
      "source": [
        "from sklearn.svm import SVC()\n",
        "\n",
        "svm = SVC()"
      ],
      "execution_count": null,
      "outputs": []
    },
    {
      "cell_type": "markdown",
      "metadata": {
        "id": "CWJEZw4gLlG7"
      },
      "source": [
        "# 2- Tuning"
      ]
    },
    {
      "cell_type": "code",
      "metadata": {
        "id": "Se_MnKAXLm2x",
        "outputId": "6b82cd0a-8049-45c3-8e41-4dbeb4f3c453",
        "colab": {
          "base_uri": "https://localhost:8080/"
        }
      },
      "source": [
        "from sklearn.model_selection import GridSearchCV, RandomSearchCV\n",
        "\n",
        "knn = KNeighborsClassifier()\n",
        "\n",
        "params_grid = {\n",
        "    'n_neighbors': [1, 2, 5, 7, 10],\n",
        "    'leaf_size': range(10,20),\n",
        "    'weights': ['uniform']\n",
        "}\n",
        "\n",
        "grid = GridSearchCV(knn, params_grid, cv=10,  scoring=\"accuracy\")\n",
        "grid.fit(X_train, y_train)"
      ],
      "execution_count": null,
      "outputs": [
        {
          "output_type": "execute_result",
          "data": {
            "text/plain": [
              "GridSearchCV(cv=10, error_score=nan,\n",
              "             estimator=KNeighborsClassifier(algorithm='auto', leaf_size=30,\n",
              "                                            metric='minkowski',\n",
              "                                            metric_params=None, n_jobs=None,\n",
              "                                            n_neighbors=5, p=2,\n",
              "                                            weights='uniform'),\n",
              "             iid='deprecated', n_jobs=None,\n",
              "             param_grid={'n_neighbors': [1, 2, 5, 7, 10]},\n",
              "             pre_dispatch='2*n_jobs', refit=True, return_train_score=False,\n",
              "             scoring='accuracy', verbose=0)"
            ]
          },
          "metadata": {
            "tags": []
          },
          "execution_count": 205
        }
      ]
    },
    {
      "cell_type": "code",
      "metadata": {
        "id": "hqOmKm4LMsgH",
        "outputId": "1609f024-397f-4bf2-f628-d207b66b971e",
        "colab": {
          "base_uri": "https://localhost:8080/"
        }
      },
      "source": [
        "grid.best_score_"
      ],
      "execution_count": null,
      "outputs": [
        {
          "output_type": "execute_result",
          "data": {
            "text/plain": [
              "0.9861040926887007"
            ]
          },
          "metadata": {
            "tags": []
          },
          "execution_count": 206
        }
      ]
    },
    {
      "cell_type": "code",
      "metadata": {
        "id": "cYjBXPdMM4mh",
        "outputId": "2588a72e-4793-491d-f05c-56895c01b15e",
        "colab": {
          "base_uri": "https://localhost:8080/"
        }
      },
      "source": [
        "grid.best_estimator_"
      ],
      "execution_count": null,
      "outputs": [
        {
          "output_type": "execute_result",
          "data": {
            "text/plain": [
              "KNeighborsClassifier(algorithm='auto', leaf_size=30, metric='minkowski',\n",
              "                     metric_params=None, n_jobs=None, n_neighbors=1, p=2,\n",
              "                     weights='uniform')"
            ]
          },
          "metadata": {
            "tags": []
          },
          "execution_count": 207
        }
      ]
    },
    {
      "cell_type": "code",
      "metadata": {
        "id": "TSUnfP1tM8g7",
        "outputId": "c9499511-d9c3-4457-c83e-0d2a671870c4",
        "colab": {
          "base_uri": "https://localhost:8080/"
        }
      },
      "source": [
        "grid.best_params_"
      ],
      "execution_count": null,
      "outputs": [
        {
          "output_type": "execute_result",
          "data": {
            "text/plain": [
              "{'n_neighbors': 1}"
            ]
          },
          "metadata": {
            "tags": []
          },
          "execution_count": 208
        }
      ]
    },
    {
      "cell_type": "code",
      "metadata": {
        "id": "MPlafncjNGre"
      },
      "source": [
        "from sklearn.svm import SVC\n",
        "\n",
        "svm = SVC()\n",
        "\n",
        "params_grid = {\n",
        "    'kernel': ['linear', 'poly', 'rbf', 'sigmoid'],\n",
        "    'gamma': [0.001, 0.0001, 0.1, 1],\n",
        "    'C': [0.001, 0.01, 0.1, 1]\n",
        "}\n",
        "\n",
        "grid = GridSearchCV(svm, params_grid, cv=5, scoring='accuracy')\n",
        "grid.fit(X_train, y_train)"
      ],
      "execution_count": null,
      "outputs": []
    },
    {
      "cell_type": "code",
      "metadata": {
        "id": "jWuTh9wCOVqp"
      },
      "source": [
        "grid.best_score_"
      ],
      "execution_count": null,
      "outputs": []
    },
    {
      "cell_type": "code",
      "metadata": {
        "id": "86xFKF1TOb0p"
      },
      "source": [
        "grid.best_estimator_"
      ],
      "execution_count": null,
      "outputs": []
    },
    {
      "cell_type": "code",
      "metadata": {
        "id": "VApa-dUDOeJO"
      },
      "source": [
        "grid.best_params_"
      ],
      "execution_count": null,
      "outputs": []
    },
    {
      "cell_type": "markdown",
      "metadata": {
        "id": "7SkmB8_ASjYH"
      },
      "source": [
        "# Misc"
      ]
    },
    {
      "cell_type": "code",
      "metadata": {
        "id": "7yncxidmSnR5"
      },
      "source": [
        "!pip install facebook-scraper"
      ],
      "execution_count": null,
      "outputs": []
    },
    {
      "cell_type": "code",
      "metadata": {
        "id": "fMFJIQWUSiw8"
      },
      "source": [
        "from facebook_scraper import get_posts\n",
        "import json\n",
        "for post in get_posts('ooredootn', pages=1, extra_info=True):\n",
        "  print(post)"
      ],
      "execution_count": null,
      "outputs": []
    },
    {
      "cell_type": "markdown",
      "metadata": {
        "id": "JIc508uTd38N"
      },
      "source": [
        "# Ensembling"
      ]
    },
    {
      "cell_type": "markdown",
      "metadata": {
        "id": "RAFyGlZQejO_"
      },
      "source": [
        "<img src=\"https://quantdare.com/wp-content/uploads/2016/04/bb2-800x307.png\">"
      ]
    },
    {
      "cell_type": "markdown",
      "metadata": {
        "id": "3iS5636ne2Yv"
      },
      "source": [
        "<img src=\"https://quantdare.com/wp-content/uploads/2016/04/bb3-800x307.png\">"
      ]
    },
    {
      "cell_type": "markdown",
      "metadata": {
        "id": "Zgz5WUF_fII_"
      },
      "source": [
        "<img src=\"https://quantdare.com/wp-content/uploads/2016/04/bb4-800x307.png\">"
      ]
    },
    {
      "cell_type": "code",
      "metadata": {
        "id": "Tac43heljydP"
      },
      "source": [
        "data = pd.read_csv('https://archive.ics.uci.edu/ml/machine-learning-databases/car/car.data',\n",
        "                   names = ['x1', 'x2', 'x3', 'x4', 'x5', 'x6', 'y'])"
      ],
      "execution_count": null,
      "outputs": []
    },
    {
      "cell_type": "code",
      "metadata": {
        "id": "Oe5nUVOKjydZ"
      },
      "source": [
        "X = data.drop('y', axis=1)\n",
        "y = data['y']"
      ],
      "execution_count": null,
      "outputs": []
    },
    {
      "cell_type": "code",
      "metadata": {
        "id": "OWrecZg9jydf"
      },
      "source": [
        "X_dummied = pd.get_dummies(X, columns= X.columns)"
      ],
      "execution_count": null,
      "outputs": []
    },
    {
      "cell_type": "code",
      "metadata": {
        "id": "Ey4aL9w_jydj"
      },
      "source": [
        "from sklearn.preprocessing import LabelEncoder\n",
        "\n",
        "le = LabelEncoder()\n",
        "y = le.fit_transform(y)"
      ],
      "execution_count": null,
      "outputs": []
    },
    {
      "cell_type": "code",
      "metadata": {
        "id": "KqQFedwsjydq"
      },
      "source": [
        "X_train, X_test, y_train, y_test = train_test_split(X_dummied, y, test_size=0.1, random_state=0)"
      ],
      "execution_count": null,
      "outputs": []
    },
    {
      "cell_type": "code",
      "metadata": {
        "id": "Wg12yzBVkBiL",
        "outputId": "4fffd8cd-543f-4f95-87bb-0f41c561061c",
        "colab": {
          "base_uri": "https://localhost:8080/"
        }
      },
      "source": [
        "from sklearn.tree import DecisionTreeClassifier\n",
        "\n",
        "clf = DecisionTreeClassifier()\n",
        "clf.fit(X_train,y_train)\n",
        "preds = clf.predict(X_test)\n",
        "%time "
      ],
      "execution_count": null,
      "outputs": [
        {
          "output_type": "stream",
          "text": [
            "CPU times: user 2 µs, sys: 1e+03 ns, total: 3 µs\n",
            "Wall time: 6.2 µs\n"
          ],
          "name": "stdout"
        }
      ]
    },
    {
      "cell_type": "code",
      "metadata": {
        "id": "X_MwJ4gckI7f",
        "outputId": "78645746-8409-40a5-d9b4-2c9c0a9d0f08",
        "colab": {
          "base_uri": "https://localhost:8080/"
        }
      },
      "source": [
        "accuracy_score(y_test, preds)"
      ],
      "execution_count": null,
      "outputs": [
        {
          "output_type": "execute_result",
          "data": {
            "text/plain": [
              "0.976878612716763"
            ]
          },
          "metadata": {
            "tags": []
          },
          "execution_count": 16
        }
      ]
    },
    {
      "cell_type": "markdown",
      "metadata": {
        "id": "nBNiOXY8d8nc"
      },
      "source": [
        "### Bagging"
      ]
    },
    {
      "cell_type": "code",
      "metadata": {
        "id": "VTnCuT46kUiU",
        "outputId": "d293e3c5-d5a7-46d1-ac45-7ea5aeea1000",
        "colab": {
          "base_uri": "https://localhost:8080/"
        }
      },
      "source": [
        "from sklearn.ensemble import RandomForestClassifier\n",
        "from sklearn.model_selection import cross_val_score\n",
        "\n",
        "clf = RandomForestClassifier(n_estimators=1000)\n",
        "scores = cross_val_score(clf, X_train, y_train, cv=10, scoring=\"accuracy\")"
      ],
      "execution_count": null,
      "outputs": [
        {
          "output_type": "stream",
          "text": [
            "CPU times: user 3 µs, sys: 0 ns, total: 3 µs\n",
            "Wall time: 5.72 µs\n"
          ],
          "name": "stdout"
        },
        {
          "output_type": "execute_result",
          "data": {
            "text/plain": [
              "array([0.98717949, 0.98076923, 0.95512821, 0.95512821, 0.96153846,\n",
              "       0.94193548, 0.98064516, 1.        , 0.98709677, 0.97419355])"
            ]
          },
          "metadata": {
            "tags": []
          },
          "execution_count": 28
        }
      ]
    },
    {
      "cell_type": "code",
      "metadata": {
        "id": "kRnpl_ACmfqv",
        "outputId": "e3161f43-f512-428b-8e63-1bfe9155aa2a",
        "colab": {
          "base_uri": "https://localhost:8080/"
        }
      },
      "source": [
        "scores.mean()"
      ],
      "execution_count": null,
      "outputs": [
        {
          "output_type": "execute_result",
          "data": {
            "text/plain": [
              "0.9723614557485526"
            ]
          },
          "metadata": {
            "tags": []
          },
          "execution_count": 31
        }
      ]
    },
    {
      "cell_type": "markdown",
      "metadata": {
        "id": "7O-hxA0CeB4M"
      },
      "source": [
        "## Boosting"
      ]
    },
    {
      "cell_type": "code",
      "metadata": {
        "id": "H8xxLlCQko2A"
      },
      "source": [
        "from sklearn.ensemble import AdaBoostClassifier, GradientBoostingClassifier\n",
        "#Xgboost \n",
        "\n",
        "clf = AdaBoostClassifier()\n",
        "clf1 = GradientBoostingClassifier()\n",
        "\n",
        "ada_scores = cross_val_score(clf, X_train, y_train, cv=10, scoring='accuracy')\n",
        "gra_scores = cross_val_score(clf1, X_train, y_train, cv=10, scoring='accuracy')"
      ],
      "execution_count": null,
      "outputs": []
    },
    {
      "cell_type": "code",
      "metadata": {
        "id": "emnAa4Pkp5Ps",
        "outputId": "b0dbe7a5-ef8f-49a4-c98a-28394e8a891c",
        "colab": {
          "base_uri": "https://localhost:8080/"
        }
      },
      "source": [
        "print(ada_scores.mean(), gra_scores.mean())"
      ],
      "execution_count": null,
      "outputs": [
        {
          "output_type": "stream",
          "text": [
            "nan 0.98136476426799\n"
          ],
          "name": "stdout"
        }
      ]
    },
    {
      "cell_type": "code",
      "metadata": {
        "id": "H93KwfrEmmIx",
        "outputId": "c6ec3946-3ead-4a19-d84c-395131eb2cac",
        "colab": {
          "base_uri": "https://localhost:8080/"
        }
      },
      "source": [
        "print(ada_scores.mean(), gra_scores.mean())"
      ],
      "execution_count": null,
      "outputs": [
        {
          "output_type": "stream",
          "text": [
            "0.8341108354011582 0.98136476426799\n"
          ],
          "name": "stdout"
        }
      ]
    },
    {
      "cell_type": "markdown",
      "metadata": {
        "id": "m6QXsosMeEH3"
      },
      "source": [
        "## Voting\n"
      ]
    },
    {
      "cell_type": "code",
      "metadata": {
        "id": "fHHtFLPllp2F",
        "outputId": "48b0e29f-879d-4f40-c7fd-be56982a1d30",
        "colab": {
          "base_uri": "https://localhost:8080/"
        }
      },
      "source": [
        "from sklearn.tree import DecisionTreeClassifier\n",
        "from sklearn.svm import SVC\n",
        "from sklearn.neighbors import KNeighborsClassifier\n",
        "from sklearn.linear_model import LogisticRegression\n",
        "from sklearn.ensemble import VotingClassifier\n",
        "\n",
        "dt = DecisionTreeClassifier() #behi pour outliers\n",
        "svm = SVC() #behi pour polynomial relations\n",
        "knn = KNeighborsClassifier() #behi for dense data\n",
        "log = LogisticRegression() # behi for 7aja\n",
        "\n",
        "cha3b = VotingClassifier(estimators=[('dt',dt), ('svm', svm), ('knn', knn), ('log', log)])\n",
        "\n",
        "classifiers = [dt, svm, knn, log, cha3b]\n",
        "esemihom = ['dt', 'svm', 'knn', 'log', 'cha3b']\n",
        "\n",
        "for clf, label in zip(classifiers, esemihom):\n",
        "  scores = cross_val_score(clf, X_train, y_train, cv=10, scoring='accuracy')\n",
        "  print(f\"Accuracy: {round(scores.mean(),2)} (+/- {round(scores.std(),2)}) [{label}]\")"
      ],
      "execution_count": null,
      "outputs": [
        {
          "output_type": "stream",
          "text": [
            "Accuracy: 0.97 (+/- 0.02) [dt]\n",
            "Accuracy: 0.98 (+/- 0.01) [svm]\n",
            "Accuracy: 0.9 (+/- 0.02) [knn]\n",
            "Accuracy: 0.92 (+/- 0.03) [log]\n",
            "Accuracy: 0.96 (+/- 0.02) [cha3b]\n"
          ],
          "name": "stdout"
        }
      ]
    },
    {
      "cell_type": "markdown",
      "metadata": {
        "id": "yYW0XwCYtfzP"
      },
      "source": [
        "# Deployment\n",
        "\n",
        "  - Postman to test APIs\n",
        "  - CRON job"
      ]
    },
    {
      "cell_type": "code",
      "metadata": {
        "id": "hqn07Jg2toMD"
      },
      "source": [
        "from flask import Flask, request, jsonify\n",
        "from sklearn.preprocessing import LabelEncoder\n",
        "from sklearn.tree import DecisionTreeClassifier\n",
        "from joblib import load, dump\n",
        "import time\n",
        "\n",
        "app = Flask(__name__)\n",
        "\n",
        "def pre_process(data):\n",
        "\t# ooga boog pre process\n",
        "\treturn pre_processed_data\n",
        "\n",
        "\n",
        "@app.route('/')\n",
        "def hello_world():\n",
        "    return 'Hello, World!'\n",
        "\n",
        "\n",
        "\n",
        "@app.route('/train')\n",
        "def predict():\n",
        "\tdata = pd.read_csv('https://archive.ics.uci.edu/ml/machine-learning-databases/car/car.data',\n",
        "            names = ['x1', 'x2', 'x3', 'x4', 'x5', 'x6', 'y'])\n",
        "\n",
        "\tX = data.drop('y', axis=1)\n",
        "\ty = data['y']\n",
        "\n",
        "\tX_dummied = pd.get_dummies(X, columns= X.columns)\n",
        "\n",
        "\tle = LabelEncoder()\n",
        "\ty = le.fit_transform(y)\n",
        "\n",
        "\tX_train, X_test, y_train, y_test = train_test_split(X_dummied, y, test_size=0.1, random_state=0)\n",
        "\n",
        "\tclf = DecisionTreeClassifier()\n",
        "\tclf.fit(X_train,y_train)\n",
        "\tpreds = clf.predict(X_test)\n",
        "\n",
        "\tdump(clf, f'models/classifier_{time.now()}.joblib')\n",
        "\n",
        "\twith open(f'scores/scores_{time.now()}.txt', 'w') as f:\n",
        "\t\tf.write(accuracy_score(y_tes, preds))\n",
        "\t\t\n",
        "\treturn 200\n",
        "\n",
        "\n",
        "\n",
        "@app.route('/predict')\n",
        "def predict():\n",
        "\tx1 = request.args.get('x1')\n",
        "\tx2 = request.args.get('x2')\n",
        "\tx3 = request.args.get('x3')\n",
        "\t#code to merge previous features\n",
        "\n",
        "\tdata = request.data.decode('utf-8')\n",
        "\tprocessed_data = pre_process(data)\n",
        "\tresult = model.predict(processed_data)\n",
        "\t\n",
        "\treturn jsonify(result)\n",
        "\n",
        "\n",
        "\n",
        "if __name__ == '__main__':\n",
        "\t#model = load('models/classifier.joblib')\n",
        "    app.run(debug=True)"
      ],
      "execution_count": null,
      "outputs": []
    }
  ]
}